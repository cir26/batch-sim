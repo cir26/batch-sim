{
 "cells": [
  {
   "cell_type": "markdown",
   "metadata": {},
   "source": [
    "# Simulating Nylon-6 Production Kinetics using Finite Difference Method"
   ]
  },
  {
   "cell_type": "code",
   "execution_count": 14,
   "metadata": {},
   "outputs": [],
   "source": [
    "import numpy as np\n",
    "import pandas as pd\n",
    "import matplotlib.pyplot as plt\n",
    "import seaborn as sns\n",
    "from math import exp"
   ]
  },
  {
   "cell_type": "code",
   "execution_count": null,
   "metadata": {},
   "outputs": [],
   "source": []
  },
  {
   "cell_type": "code",
   "execution_count": 15,
   "metadata": {},
   "outputs": [],
   "source": [
    "# data\n",
    "R_const = 8.314472   # J/(K*mol)\n",
    "T = 273+250    # deg K\n",
    "A_0 = [0, 1.6632E2, 5.2617E6, 7.9328E5, 2.3827E8, 7.1392E4]\n",
    "E_0 = [0, 8.3234E4, 9.7431E4, 9.5647E4, 1.7585E5, 8.9179E4]\n",
    "A_c = [0, 1.1965E4, 3.3650E6, 4.5492E6, .4742E8, 8.3639E5]\n",
    "E_c = [0, 7.8722E4, 8.6525E4, 8.4168E4, 1.5656E5, 8.5394E4]\n",
    "delH= [0, 8.0287E3,-2.4889E4,-1.6927E4,-4.0186E4,-1.3266E4]\n",
    "delS = [0, -3.3005E1, 3.9505, -2.9075E1, -6.0781E1, 2.4390]"
   ]
  },
  {
   "cell_type": "markdown",
   "metadata": {},
   "source": [
    "## Initializing vectors"
   ]
  },
  {
   "cell_type": "code",
   "execution_count": 16,
   "metadata": {},
   "outputs": [],
   "source": [
    "# initialize time vector\n",
    "dt=0.01\n",
    "N=1000000\n",
    "t=[n*dt for n in range(N)]"
   ]
  },
  {
   "cell_type": "code",
   "execution_count": 17,
   "metadata": {},
   "outputs": [],
   "source": [
    "# initialize forward rxn constant vector (kg/mol-s)\n",
    "k1=[0]*N\n",
    "k2=[0]*N\n",
    "k3=[0]*N\n",
    "k4=[0]*N\n",
    "k5=[0]*N\n",
    "\n",
    "# initialize reverse rxn constant vector (kg/mol-s)\n",
    "k1_prime=[0]*N\n",
    "k2_prime=[0]*N\n",
    "k3_prime=[0]*N\n",
    "k4_prime=[0]*N\n",
    "k5_prime=[0]*N"
   ]
  },
  {
   "cell_type": "code",
   "execution_count": 18,
   "metadata": {},
   "outputs": [],
   "source": [
    "# initialize number-average degree of polymerizaton vector\n",
    "x_n=[0]*N"
   ]
  },
  {
   "cell_type": "code",
   "execution_count": 19,
   "metadata": {},
   "outputs": [],
   "source": [
    "# initialize species vectors\n",
    "W=[0]*N\n",
    "CL=[0]*N\n",
    "CD=[0]*N\n",
    "AA=[0]*N\n",
    "CHA=[0]*N\n",
    "P_1=[0]*N\n",
    "BACA=[0]*N\n",
    "TNH2=[0]*N\n",
    "TCOOH=[0]*N\n",
    "TAA=[0]*N\n",
    "TCHA=[0]*N"
   ]
  },
  {
   "cell_type": "markdown",
   "metadata": {},
   "source": [
    "## Definitions"
   ]
  },
  {
   "cell_type": "code",
   "execution_count": 20,
   "metadata": {},
   "outputs": [],
   "source": [
    "# rxn rate generator\n",
    "def R(eqn,index):\n",
    "    if eqn==1:\n",
    "        return (k1[index]*CL[index]*W[index])-(k1_prime[index]*P_1[index])\n",
    "    elif eqn==2:\n",
    "        return (k2[index]*((P_1[index])**2))-(k2_prime[index]*P_1[index]*W[index])\n",
    "    elif eqn==3:\n",
    "        return (k2[index]*P_1[index]*TCOOH[index])-(k2_prime[index]*W[index]*(TCOOH[index]-P_1[index]-TAA[index]*(1/x_n[index])))\n",
    "    elif eqn==4:\n",
    "        return (k2[index]*TNH2[index]*P_1[index])-(k2_prime[index]*W[index]*(TNH2[index]-P_1[index]-TCHA[index]*(1/x_n[index])))\n",
    "    elif eqn==5:\n",
    "        return (k2[index]*TNH2[index]*TCOOH[index])-(k2_prime[index]*W[index]*(BACA[index]-TNH2[index]-TAA[index]+P_1[index]+TAA[index]*(1/x_n[index])+TCHA[index]*(1/x_n[index])))\n",
    "    elif eqn==6:\n",
    "        return (k3[index]*P_1[index]*CL[index])-(k3_prime[index]*P_1[index])\n",
    "    elif eqn==7:\n",
    "        return (k3[index]*TNH2[index]*CL[index])-(k3_prime[index]*(TNH2[index]-P_1[index]-TCHA[index]*(1/x_n[index])))\n",
    "    elif eqn==8:\n",
    "        return (k4[index]*CD[index]*W[index])-(k4_prime[index]*P_1[index])\n",
    "    elif eqn==9:\n",
    "        return (k5[index]*P_1[index]*CD[index])-(k5_prime[index]*P_1[index])\n",
    "    elif eqn==10:\n",
    "        return (k5[index]*TNH2[index]*CD[index])-(k5_prime[index]*(TNH2[index]-(2*P_1[index])-(2*TCHA[index]*(1/x_n[index]))))\n",
    "    elif eqn==11:\n",
    "        return (k2[index]*AA[index]*P_1[index])-(k2_prime[index]*W[index]*TAA[index]) \n",
    "    elif eqn==12:\n",
    "        return (k2[index]*AA[index]*TNH2[index])-(k2_prime[index]*W[index]*TAA[index]*(1-(1/x_n[index])))\n",
    "    elif eqn==13:\n",
    "        return (k3[index]*CHA[index]*CL[index])-(k3_prime[index]*TCHA[index]*(1/x_n[index]))\n",
    "    elif eqn==14:\n",
    "        return (k2[index]*CHA[index]*P_1[index])-(k2_prime[index]*W[index]*TCHA[index]*(1/x_n[index]))\n",
    "    elif eqn==15:\n",
    "        return (k2[index]*CHA[index]*TCOOH[index])-(k2_prime[index]*W[index]*TCHA[index]*(1-(1/x_n[index])))\n",
    "        "
   ]
  },
  {
   "cell_type": "code",
   "execution_count": 21,
   "metadata": {},
   "outputs": [],
   "source": [
    "# forward rate constant generator\n",
    "def nextk(const,index):\n",
    "    return A_0[const]*exp(-E_0[const]/(R_const*T)) + A_c[const]*exp(-E_c[const]/(R_const*T))*(TCOOH[index]+P_1[index])\n",
    "\n",
    "# backward rate constant generator\n",
    "def nextk_prime(const,index):\n",
    "    if const == 1:\n",
    "        return k1[index]/exp((delS[const]-(delH[const]/T))/R_const)\n",
    "    if const == 2:\n",
    "        return k2[index]/exp((delS[const]-(delH[const]/T))/R_const)\n",
    "    if const == 3:\n",
    "        return k3[index]/exp((delS[const]-(delH[const]/T))/R_const)\n",
    "    if const == 4:\n",
    "        return k4[index]/exp((delS[const]-(delH[const]/T))/R_const)\n",
    "    if const == 5:\n",
    "        return k5[index]/exp((delS[const]-(delH[const]/T))/R_const)\n",
    "    \n",
    "# number-average degree of polymerization generator\n",
    "def next_xn(index):\n",
    "    return (BACA[index]+TCOOH[index]+TNH2[index]+P_1[index])/(TNH2[index]+TAA[index]+P_1[index])"
   ]
  },
  {
   "cell_type": "code",
   "execution_count": 22,
   "metadata": {},
   "outputs": [],
   "source": [
    "# define difference equations\n",
    "\n",
    "def nextW(dt,index): \n",
    "    return W[index]+(R(2,index)+R(3,index)+R(4,index)+R(5,index)+R(11,index)+R(12,index)+R(14,index)+R(15,index)-R(1,index)-R(8,index))*dt\n",
    "\n",
    "def nextCL(dt,index):\n",
    "    return CL[index]+(-R(1,index)-R(6,index)-R(7,index)-R(13,index))*dt\n",
    "\n",
    "def nextCD(dt,index):\n",
    "    return CD[index]-(R(8,index)+R(9,index)+R(10,index))*dt\n",
    "\n",
    "def nextAA(dt,index):\n",
    "    return AA[index]+(-R(11,index)-R(12,index))*dt\n",
    "\n",
    "def nextCHA(dt,index):\n",
    "    return CHA[index]+(-R(13,index)-R(14,index)-R(15,index))*dt\n",
    "            \n",
    "def nextP_1(dt,index):\n",
    "    return P_1[index]+((R(1,index))-(2*R(2,index))-R(3,index)-R(4,index)-R(6,index)-R(9,index)-R(11,index)-R(14,index))*dt\n",
    "            \n",
    "def nextBACA(dt,index):\n",
    "    return BACA[index]+(R(3,index)+R(4,index)+(2*R(5,index))+R(7,index)+R(9,index)+(2*R(10,index))+R(12,index)+R(15,index))*dt\n",
    "    \n",
    "def nextTNH2(dt,index):\n",
    "    return TNH2[index]+(R(2,index)+R(6,index)+R(8,index)+R(9,index)+R(13,index)+R(14,index)-R(5,index)-R(12,index))*dt\n",
    "    \n",
    "def nextTCOOH(dt,index):\n",
    "    return TCOOH[index]+(R(2,index)+R(6,index)+R(8,index)+R(9,index)+R(11,index)-R(5,index)-R(15,index))*dt\n",
    "    \n",
    "def nextTAA(dt,index):\n",
    "    return TAA[index]+(R(11,index)+R(12,index))*dt\n",
    "    \n",
    "def nextTCHA(dt,index):\n",
    "    return TCHA[index]+(R(13,index)+R(14,index)+R(15,index))*dt"
   ]
  },
  {
   "cell_type": "markdown",
   "metadata": {},
   "source": [
    "## Simulation"
   ]
  },
  {
   "cell_type": "code",
   "execution_count": 23,
   "metadata": {},
   "outputs": [],
   "source": [
    "# set initial conditions\n",
    "W[0]=1\n",
    "CL[0]=(W[0])*10\n",
    "CD[0]=0\n",
    "AA[0]=0\n",
    "CHA[0]=0\n",
    "P_1[0]=0\n",
    "BACA[0]=0\n",
    "TNH2[0]=0\n",
    "TCOOH[0]=0\n",
    "TAA[0]=0\n",
    "TCHA[0]=0\n",
    "\n",
    "x_n[0]=1\n",
    "\n",
    "k1[0]=A_0[1]*exp(-E_0[1]/(R_const*T))\n",
    "k2[0]=A_0[2]*exp(-E_0[2]/(R_const*T))\n",
    "k3[0]=A_0[3]*exp(-E_0[3]/(R_const*T))\n",
    "k4[0]=A_0[4]*exp(-E_0[4]/(R_const*T))\n",
    "k5[0]=A_0[5]*exp(-E_0[5]/(R_const*T))\n",
    "\n",
    "k1_prime[0]=k1[0]/exp((delS[1]-(delH[1]/T))/R_const)\n",
    "k2_prime[0]=k2[0]/exp((delS[2]-(delH[2]/T))/R_const)\n",
    "k3_prime[0]=k3[0]/exp((delS[3]-(delH[3]/T))/R_const)\n",
    "k4_prime[0]=k4[0]/exp((delS[4]-(delH[4]/T))/R_const)\n",
    "k5_prime[0]=k5[0]/exp((delS[5]-(delH[5]/T))/R_const)"
   ]
  },
  {
   "cell_type": "code",
   "execution_count": 24,
   "metadata": {},
   "outputs": [],
   "source": [
    "# solve difference eqns & store for each time-step\n",
    "for i in range(len(t)-1):\n",
    "    W[i+1]=nextW(dt,i)\n",
    "    CL[i+1]=nextCL(dt,i)\n",
    "    CD[i+1]=nextCD(dt,i)\n",
    "    AA[i+1]=nextAA(dt,i)\n",
    "    CHA[i+1]=nextCHA(dt,i)\n",
    "    P_1[i+1]=nextP_1(dt,i)\n",
    "    BACA[i+1]=nextBACA(dt,i)\n",
    "    TNH2[i+1]=nextTNH2(dt,i)\n",
    "    TCOOH[i+1]=nextTCOOH(dt,i)\n",
    "    TAA[i+1]=nextTAA(dt,i)\n",
    "    TCHA[i+1]=nextTCHA(dt,i)\n",
    "    \n",
    "    x_n[i+1]=next_xn(i+1)\n",
    "    \n",
    "    k1[i+1]=nextk(1,i+1)\n",
    "    k2[i+1]=nextk(2,i+1)\n",
    "    k3[i+1]=nextk(3,i+1)\n",
    "    k4[i+1]=nextk(4,i+1)\n",
    "    k5[i+1]=nextk(5,i+1)\n",
    "    \n",
    "    k1_prime[i+1]=nextk_prime(1,i+1)\n",
    "    k2_prime[i+1]=nextk_prime(2,i+1)\n",
    "    k3_prime[i+1]=nextk_prime(3,i+1)\n",
    "    k4_prime[i+1]=nextk_prime(4,i+1)\n",
    "    k5_prime[i+1]=nextk_prime(5,i+1)"
   ]
  },
  {
   "cell_type": "code",
   "execution_count": 25,
   "metadata": {},
   "outputs": [],
   "source": [
    "df = pd.DataFrame({'t':t,\n",
    "                  'W':W,\n",
    "                  'CL':CL,\n",
    "                  'CD':CD,\n",
    "                  'AA':AA,\n",
    "                  'CHA':CHA,\n",
    "                  'P_1':P_1,\n",
    "                  'BACA':BACA,\n",
    "                  'TNH2':TNH2,\n",
    "                  'TCOOH':TCOOH,\n",
    "                  'TAA':TAA,\n",
    "                  'TCHA':TCHA,\n",
    "                  'k1':k1,\n",
    "                  'k2':k2,\n",
    "                  'k3':k3,\n",
    "                  'k4':k4,\n",
    "                  'k5':k5,\n",
    "                  'k1_prime':k1_prime,\n",
    "                  'k2_prime':k2_prime,\n",
    "                  'k3_prime':k3_prime,\n",
    "                  'k4_prime':k4_prime,\n",
    "                  'k5_prime':k5_prime})\n"
   ]
  },
  {
   "cell_type": "markdown",
   "metadata": {},
   "source": [
    "## Plots"
   ]
  },
  {
   "cell_type": "code",
   "execution_count": 30,
   "metadata": {},
   "outputs": [
    {
     "data": {
      "text/plain": [
       "<Figure size 1080x1080 with 0 Axes>"
      ]
     },
     "metadata": {},
     "output_type": "display_data"
    },
    {
     "data": {
      "image/png": "[encoded data removed]",
      "text/plain": [
       "<Figure size 432x288 with 1 Axes>"
      ]
     },
     "metadata": {
      "needs_background": "light"
     },
     "output_type": "display_data"
    }
   ],
   "source": [
    "# plot concentration as a function of time for each significant species\n",
    "plt.figure(figsize=(15,15))\n",
    "fig,ax = plt.subplots()\n",
    "sns.scatterplot(x=\"t\", y=\"P_1\", data=df, ax=ax,label=\"ACA Group\")\n",
    "sns.scatterplot(x=\"t\", y=\"W\", data=df,ax=ax,label=\"Water\")\n",
    "sns.scatterplot(x=\"t\", y=\"CL\", data=df,ax=ax,label=\"Caprolactam\")\n",
    "sns.scatterplot(x=\"t\", y=\"BACA\", data=df,ax=ax,label=\"Bound Nylon-6\")\n",
    "sns.scatterplot(x=\"t\", y=\"CD\", data=df,ax=ax,label=\"Cyclic Dimer\")\n",
    "plt.ylabel(\"Concentration of species\")\n",
    "plt.legend()\n",
    "plt.show()"
   ]
  },
  {
   "cell_type": "code",
   "execution_count": 31,
   "metadata": {},
   "outputs": [
    {
     "data": {
      "text/plain": [
       "<Figure size 1080x1080 with 0 Axes>"
      ]
     },
     "metadata": {},
     "output_type": "display_data"
    },
    {
     "data": {
      "image/png": "[encoded data removed]",
      "text/plain": [
       "<Figure size 432x288 with 1 Axes>"
      ]
     },
     "metadata": {
      "needs_background": "light"
     },
     "output_type": "display_data"
    }
   ],
   "source": [
    "# plot forward rxn rate constants\n",
    "plt.figure(figsize=(15,15))\n",
    "fig,ax = plt.subplots()\n",
    "sns.scatterplot(x=\"t\", y=\"k1\", data=df, ax=ax,label=\"k1\")\n",
    "sns.scatterplot(x=\"t\", y=\"k2\", data=df,ax=ax,label=\"k2\")\n",
    "sns.scatterplot(x=\"t\", y=\"k3\", data=df,ax=ax,label=\"k3\")\n",
    "sns.scatterplot(x=\"t\", y=\"k4\", data=df,ax=ax,label=\"k4\")\n",
    "sns.scatterplot(x=\"t\", y=\"k5\", data=df,ax=ax,label=\"k5\")\n",
    "plt.ylabel(\"Forward rxn rate constant\")\n",
    "plt.legend()\n",
    "plt.show()"
   ]
  },
  {
   "cell_type": "code",
   "execution_count": 32,
   "metadata": {},
   "outputs": [
    {
     "data": {
      "text/plain": [
       "<Figure size 1080x1080 with 0 Axes>"
      ]
     },
     "metadata": {},
     "output_type": "display_data"
    },
    {
     "data": {
      "image/png": "[encoded data removed]",
      "text/plain": [
       "<Figure size 432x288 with 1 Axes>"
      ]
     },
     "metadata": {
      "needs_background": "light"
     },
     "output_type": "display_data"
    }
   ],
   "source": [
    "# plot reverse rxn rate constants \n",
    "plt.figure(figsize=(15,15))\n",
    "fig,ax = plt.subplots()\n",
    "sns.scatterplot(x=\"t\", y=\"k1_prime\", data=df, ax=ax,label=\"k1_prime\")\n",
    "sns.scatterplot(x=\"t\", y=\"k2_prime\", data=df,ax=ax,label=\"k2_prime\")\n",
    "sns.scatterplot(x=\"t\", y=\"k3_prime\", data=df,ax=ax,label=\"k3_prime\")\n",
    "sns.scatterplot(x=\"t\", y=\"k4_prime\", data=df,ax=ax,label=\"k4_prime\")\n",
    "sns.scatterplot(x=\"t\", y=\"k5_prime\", data=df,ax=ax,label=\"k5_prime\")\n",
    "plt.ylabel(\"Reverse rxn rate constant\")\n",
    "plt.legend()\n",
    "plt.show()"
   ]
  },
  {
   "cell_type": "code",
   "execution_count": null,
   "metadata": {},
   "outputs": [],
   "source": []
  },
  {
   "cell_type": "code",
   "execution_count": null,
   "metadata": {},
   "outputs": [],
   "source": []
  }
 ],
 "metadata": {
  "kernelspec": {
   "display_name": "Python 3",
   "language": "python",
   "name": "python3"
  },
  "language_info": {
   "codemirror_mode": {
    "name": "ipython",
    "version": 3
   },
   "file_extension": ".py",
   "mimetype": "text/x-python",
   "name": "python",
   "nbconvert_exporter": "python",
   "pygments_lexer": "ipython3",
   "version": "3.7.3"
  }
 },
 "nbformat": 4,
 "nbformat_minor": 2
}
